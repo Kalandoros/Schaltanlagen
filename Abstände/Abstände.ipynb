{
 "cells": [
  {
   "cell_type": "markdown",
   "source": [
    "# Abstände in Schaltanlagen\n",
    "## Einführung\n",
    "Gemäss **Starkstromverordnung (StV)** Kapitel 1 Artikel 2 gilt das, sofern keine anderen Vorschriften in der StV enthalten sind, u.a. die **Leitungsverordnung (LeV)**.\n",
    "Nach StV Kapitel 2 Artikel 4 gelten weiterhin das, wenn keine Vorschriften in der StV gemacht werden, die anerkannten Regeln der Technik.\n",
    "Dabei gelten als anerkannte Reglen der Technik inbesondere Normen von IEC (IEC-Normen) und CENLEC (EN-Normen). \n",
    "Fehlen international harmonisierte Normen so gelten die schweizerischen Normen. \n",
    "Existieren keine spezifischen Normen sind sinngemäss anwendbare Normen oder allfällige technische Weisungen heranzuziehen. \n",
    "\n",
    "## Abstände und Masse nach StV\n",
    "### Allgemein\n",
    "\n",
    "\n",
    "### Freiluftanlagen\n",
    "\n",
    "#### Umzäunungen\n",
    "Kapitel 3 Abschnitt 4 Artikel 41 Absatz 1\n",
    "Der Betriebsbereich einer Freiluftanlage muss mit einer Umzäunung von mindestens 2,2 m Höhe abgeschlossen sein. In schneereichen Gegenden ist diese Umzäunung entsprechend zu erhöhen. <br/><br/>\n",
    "\n",
    "#### Wege innerhalb der Freiluftanlage\n",
    "Kapitel 3 Abschnitt 4 Artikel 42 \n",
    "Wege innerhalb der Freiluftanlage müssen mindestens 1,2 m breit sein und eine lichte Höhe von 2,5 m aufweisen. <br/><br/>\n",
    "\n",
    "#### Abstände vom Boden zum Isolatorfuss\n",
    "Kapitel 3 Abschnitt 4 Artikel 43 Absatz 3\n",
    "Ist kein Berührungsschutz vorhanden, so muss der geerdete Isolatorfuss mindestens 2,25 m Abstand zum Boden aufweisen. <br/><br/>\n",
    "\n",
    "#### Abstände vom Zaun zu spannungsführenden Teilen\n",
    "|         | Un <220 kV            | 220 kV                        | 380 kV                        |\n",
    "|---------|-----------------------|-------------------------------|-------------------------------|\n",
    "| Höhe    | 6 m                   | 6,6 m                         | 7,1 m                         |\n",
    "| Abstand | 1,6 m + 0,01 m pro kV | 1,6 m + 0,01 m pro kV (3,8 m) | 1,6 m + 0,01 m pro kV (5.4 m) |\n",
    "\n",
    "  **&#9432;** **_Hinweis:_**\n",
    "Ist das Gelände unmittelbar ausserhalb der Umzäunung befahrbar, ist die Höhe nach LeV anzupassen. <br/><br/>\n",
    "\n",
    "| Nennspannung in kV | Höchste Betriebsspannung in kV | Mindesthöhe zu unter Spannung stehenden Teilen in m |\n",
    "|--------------------|--------------------------------|-----------------------------------------------------|\n",
    "| 20                 | 24                             | 2,50                                                |\n",
    "| 30                 | 36                             | 2,55                                                |\n",
    "| 45                 | 52                             | 2,70                                                |\n",
    "| 60                 | 72,5                           | 2,85                                                |\n",
    "| 110                | 123                            | 3,35                                                |\n",
    "| 132                | 145                            | 3,57                                                |\n",
    "| 150                | 170                            | 3,75                                                |\n",
    "| 220                | 245                            | 4,45                                                |\n",
    "| 380                | 420                            | 6,05                                                |\n",
    "\n",
    "\n",
    "### Innenraumanlagen\n",
    "#### Bediengänge\n",
    "Bedienungsgänge von mehr als 20 m Länge müssen auf beiden Seiten verlassen werden können.\n",
    "\n"
   ],
   "metadata": {
    "collapsed": false
   },
   "id": "e8f176f60936a260"
  }
 ],
 "metadata": {
  "kernelspec": {
   "display_name": "Python 3",
   "language": "python",
   "name": "python3"
  },
  "language_info": {
   "codemirror_mode": {
    "name": "ipython",
    "version": 2
   },
   "file_extension": ".py",
   "mimetype": "text/x-python",
   "name": "python",
   "nbconvert_exporter": "python",
   "pygments_lexer": "ipython2",
   "version": "2.7.6"
  }
 },
 "nbformat": 4,
 "nbformat_minor": 5
}
